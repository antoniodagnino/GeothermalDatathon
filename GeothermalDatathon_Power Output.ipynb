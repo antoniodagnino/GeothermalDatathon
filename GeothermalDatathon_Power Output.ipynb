{
 "cells": [
  {
   "cell_type": "markdown",
   "metadata": {},
   "source": [
    "# PIVOT 2022 Geothermal Datathon: SPE - Gulf Coast Section\n",
    "## Data Modeling: Power Output\n",
    "\n",
    "\n",
    "#### - Team: \n",
    "GeotherML    \n",
    "    \n",
    "#### - Team Members:\n",
    "- Antonio Dagnino\n",
    "- Andres Calvo\n",
    "- Oliver Rojas\n",
    "- Yusuf Falola\n",
    "- Chandryl Paterne    \n",
    "    \n",
    "#### - Contents:\n",
    "\n",
    "   - **Data Modeling: Power Output**\n",
    "       - Import inputs and outputs\n",
    "       - Train / Test split\n",
    "       - Scale Data\n",
    "       - Create Neural Network\n",
    "       - Fit the Model\n",
    "       \n",
    "\n",
    "   - **Evaluation Metrics**\n",
    "       - MAE\n",
    "       - MSE\n",
    "       - RMSE\n",
    "       - Explained variance score\n",
    "       - Compare mean values per year: Predictions Vs Real\n",
    "\n"
   ]
  },
  {
   "cell_type": "markdown",
   "metadata": {},
   "source": [
    "### Data Modeling: Power Output"
   ]
  },
  {
   "cell_type": "markdown",
   "metadata": {},
   "source": [
    "- Data Modeling Imports"
   ]
  },
  {
   "cell_type": "code",
   "execution_count": 1,
   "metadata": {},
   "outputs": [],
   "source": [
    "import numpy as np\n",
    "import pandas as pd\n",
    "import matplotlib.pyplot as plt\n",
    "import seaborn as sns\n",
    "%matplotlib inline\n",
    "from pylab import rcParams\n",
    "\n",
    "# Ignore harmless warnings\n",
    "import warnings\n",
    "warnings.filterwarnings(\"ignore\")\n",
    "\n",
    "from sklearn.model_selection import train_test_split\n",
    "from sklearn.preprocessing import MinMaxScaler\n",
    "\n",
    "from tensorflow.keras.models import Sequential\n",
    "from tensorflow.keras.layers import Dense, Activation, Dropout\n",
    "from tensorflow.keras.optimizers import Adam\n",
    "from tensorflow.keras.callbacks import EarlyStopping\n",
    "\n",
    "\n",
    "from sklearn.metrics import mean_squared_error, mean_absolute_error,explained_variance_score"
   ]
  },
  {
   "cell_type": "code",
   "execution_count": 2,
   "metadata": {},
   "outputs": [],
   "source": [
    "# Customize Plots\n",
    "rcParams['figure.figsize'] = 14,8\n",
    "rcParams['axes.titlesize'] = 15\n",
    "rcParams['font.size']=10\n",
    "sns.set_style('whitegrid')\n",
    "\n",
    "#show all columns in Jupyter Notebook\n",
    "pd.set_option(\"display.max_columns\", None)"
   ]
  },
  {
   "cell_type": "code",
   "execution_count": 3,
   "metadata": {},
   "outputs": [],
   "source": [
    "inputs = pd.read_csv('inputs.csv',index_col=0)\n",
    "df_Power = pd.read_csv('df_Power.csv',index_col=0)"
   ]
  },
  {
   "cell_type": "markdown",
   "metadata": {},
   "source": [
    "- Train / Test split"
   ]
  },
  {
   "cell_type": "code",
   "execution_count": 4,
   "metadata": {},
   "outputs": [],
   "source": [
    "X_train, X_test, y_train, y_test = train_test_split(inputs.values,df_Power.values,test_size=0.2,random_state=101)"
   ]
  },
  {
   "cell_type": "markdown",
   "metadata": {},
   "source": [
    "- Scale Data"
   ]
  },
  {
   "cell_type": "code",
   "execution_count": 5,
   "metadata": {},
   "outputs": [],
   "source": [
    "scaler = MinMaxScaler()"
   ]
  },
  {
   "cell_type": "code",
   "execution_count": 6,
   "metadata": {},
   "outputs": [],
   "source": [
    "X_train = scaler.fit_transform(X_train)"
   ]
  },
  {
   "cell_type": "code",
   "execution_count": 7,
   "metadata": {},
   "outputs": [],
   "source": [
    "X_test = scaler.transform(X_test)"
   ]
  },
  {
   "cell_type": "code",
   "execution_count": 8,
   "metadata": {},
   "outputs": [
    {
     "data": {
      "text/plain": [
       "(36388, 37)"
      ]
     },
     "execution_count": 8,
     "metadata": {},
     "output_type": "execute_result"
    }
   ],
   "source": [
    "X_train.shape"
   ]
  },
  {
   "cell_type": "code",
   "execution_count": 9,
   "metadata": {},
   "outputs": [
    {
     "data": {
      "text/plain": [
       "(9097, 37)"
      ]
     },
     "execution_count": 9,
     "metadata": {},
     "output_type": "execute_result"
    }
   ],
   "source": [
    "X_test.shape"
   ]
  },
  {
   "cell_type": "markdown",
   "metadata": {},
   "source": [
    "- Create Neural Network"
   ]
  },
  {
   "cell_type": "code",
   "execution_count": 10,
   "metadata": {},
   "outputs": [],
   "source": [
    "model = Sequential()\n",
    "\n",
    "model.add(Dense(37,activation='relu'))\n",
    "\n",
    "model.add(Dense(37,activation='relu'))\n",
    "model.add(Dropout(0.5))\n",
    "model.add(Dense(37,activation='relu'))\n",
    "model.add(Dropout(0.5))\n",
    "# model.add(Dense(37,activation='relu'))\n",
    "# model.add(Dropout(0.5))\n",
    "\n",
    "model.add(Dense(20))\n",
    "\n",
    "\n",
    "model.compile(optimizer='adam',loss='mse')"
   ]
  },
  {
   "cell_type": "markdown",
   "metadata": {},
   "source": [
    "- Fit the Model"
   ]
  },
  {
   "cell_type": "code",
   "execution_count": 11,
   "metadata": {},
   "outputs": [],
   "source": [
    "# - Hyperparameter Tunning:\n",
    "\n",
    "batchsize = 256\n",
    "epochs = 400"
   ]
  },
  {
   "cell_type": "code",
   "execution_count": 12,
   "metadata": {},
   "outputs": [],
   "source": [
    "early_stop = EarlyStopping(monitor='val_loss', mode='min', verbose=1, patience=25)"
   ]
  },
  {
   "cell_type": "code",
   "execution_count": 13,
   "metadata": {},
   "outputs": [
    {
     "name": "stdout",
     "output_type": "stream",
     "text": [
      "Epoch 1/400\n",
      "143/143 [==============================] - 1s 3ms/step - loss: 197731.0312 - val_loss: 167496.3125\n",
      "Epoch 2/400\n",
      "143/143 [==============================] - 0s 3ms/step - loss: 188748.7812 - val_loss: 165035.8906\n",
      "Epoch 3/400\n",
      "143/143 [==============================] - 0s 2ms/step - loss: 185646.2812 - val_loss: 161184.0156\n",
      "Epoch 4/400\n",
      "143/143 [==============================] - 0s 2ms/step - loss: 181489.0000 - val_loss: 158307.5312\n",
      "Epoch 5/400\n",
      "143/143 [==============================] - 0s 3ms/step - loss: 180159.1719 - val_loss: 157601.1406\n",
      "Epoch 6/400\n",
      "143/143 [==============================] - 0s 3ms/step - loss: 179556.9688 - val_loss: 157576.0156\n",
      "Epoch 7/400\n",
      "143/143 [==============================] - 0s 3ms/step - loss: 178928.7969 - val_loss: 157077.4688\n",
      "Epoch 8/400\n",
      "143/143 [==============================] - 0s 2ms/step - loss: 179027.2188 - val_loss: 157055.5625\n",
      "Epoch 9/400\n",
      "143/143 [==============================] - 0s 2ms/step - loss: 179094.1406 - val_loss: 157042.9844\n",
      "Epoch 10/400\n",
      "143/143 [==============================] - 0s 2ms/step - loss: 178037.4375 - val_loss: 156765.3594\n",
      "Epoch 11/400\n",
      "143/143 [==============================] - 0s 2ms/step - loss: 178362.1094 - val_loss: 156433.8906\n",
      "Epoch 12/400\n",
      "143/143 [==============================] - 0s 2ms/step - loss: 178084.6250 - val_loss: 156312.0000\n",
      "Epoch 13/400\n",
      "143/143 [==============================] - 0s 3ms/step - loss: 177693.3594 - val_loss: 156253.7031\n",
      "Epoch 14/400\n",
      "143/143 [==============================] - 0s 2ms/step - loss: 177345.6875 - val_loss: 155886.4688\n",
      "Epoch 15/400\n",
      "143/143 [==============================] - 0s 2ms/step - loss: 176591.3125 - val_loss: 155500.0781\n",
      "Epoch 16/400\n",
      "143/143 [==============================] - 0s 3ms/step - loss: 176490.2656 - val_loss: 155217.7500\n",
      "Epoch 17/400\n",
      "143/143 [==============================] - 0s 3ms/step - loss: 175832.5781 - val_loss: 154916.2344\n",
      "Epoch 18/400\n",
      "143/143 [==============================] - 0s 3ms/step - loss: 175926.1406 - val_loss: 154783.4688\n",
      "Epoch 19/400\n",
      "143/143 [==============================] - 0s 2ms/step - loss: 175638.0156 - val_loss: 154438.5781\n",
      "Epoch 20/400\n",
      "143/143 [==============================] - 0s 2ms/step - loss: 174731.9688 - val_loss: 153856.3906\n",
      "Epoch 21/400\n",
      "143/143 [==============================] - 0s 2ms/step - loss: 174761.0312 - val_loss: 153572.4062\n",
      "Epoch 22/400\n",
      "143/143 [==============================] - 0s 2ms/step - loss: 174167.0000 - val_loss: 153114.5312\n",
      "Epoch 23/400\n",
      "143/143 [==============================] - 0s 3ms/step - loss: 173621.3281 - val_loss: 152937.4844\n",
      "Epoch 24/400\n",
      "143/143 [==============================] - 0s 3ms/step - loss: 173151.8594 - val_loss: 153130.5000\n",
      "Epoch 25/400\n",
      "143/143 [==============================] - 0s 2ms/step - loss: 173081.8281 - val_loss: 153240.3906\n",
      "Epoch 26/400\n",
      "143/143 [==============================] - 0s 2ms/step - loss: 172895.7500 - val_loss: 151951.5625\n",
      "Epoch 27/400\n",
      "143/143 [==============================] - 0s 3ms/step - loss: 172614.5625 - val_loss: 151835.8438\n",
      "Epoch 28/400\n",
      "143/143 [==============================] - 0s 3ms/step - loss: 172170.4062 - val_loss: 152184.4375\n",
      "Epoch 29/400\n",
      "143/143 [==============================] - 0s 3ms/step - loss: 171521.1875 - val_loss: 151497.2969\n",
      "Epoch 30/400\n",
      "143/143 [==============================] - 0s 2ms/step - loss: 172179.8281 - val_loss: 151249.5156\n",
      "Epoch 31/400\n",
      "143/143 [==============================] - 0s 2ms/step - loss: 171548.8906 - val_loss: 151172.5938\n",
      "Epoch 32/400\n",
      "143/143 [==============================] - 0s 2ms/step - loss: 171256.8125 - val_loss: 151279.0938\n",
      "Epoch 33/400\n",
      "143/143 [==============================] - 0s 3ms/step - loss: 170576.0781 - val_loss: 151061.8750\n",
      "Epoch 34/400\n",
      "143/143 [==============================] - ETA: 0s - loss: 169232.23 - 0s 3ms/step - loss: 169232.2344 - val_loss: 151403.0000\n",
      "Epoch 35/400\n",
      "143/143 [==============================] - 0s 3ms/step - loss: 169958.7031 - val_loss: 150602.6406\n",
      "Epoch 36/400\n",
      "143/143 [==============================] - 0s 3ms/step - loss: 170042.9219 - val_loss: 151330.0156\n",
      "Epoch 37/400\n",
      "143/143 [==============================] - 0s 3ms/step - loss: 169375.9375 - val_loss: 151307.6719\n",
      "Epoch 38/400\n",
      "143/143 [==============================] - 0s 2ms/step - loss: 169500.2031 - val_loss: 150145.5156\n",
      "Epoch 39/400\n",
      "143/143 [==============================] - 0s 3ms/step - loss: 169724.7344 - val_loss: 150656.9219\n",
      "Epoch 40/400\n",
      "143/143 [==============================] - 0s 2ms/step - loss: 168917.2500 - val_loss: 150188.0625\n",
      "Epoch 41/400\n",
      "143/143 [==============================] - 0s 2ms/step - loss: 168521.9844 - val_loss: 149957.8750\n",
      "Epoch 42/400\n",
      "143/143 [==============================] - 0s 2ms/step - loss: 169679.3438 - val_loss: 150035.1250\n",
      "Epoch 43/400\n",
      "143/143 [==============================] - 0s 3ms/step - loss: 169239.2188 - val_loss: 149646.5781\n",
      "Epoch 44/400\n",
      "143/143 [==============================] - 0s 2ms/step - loss: 168305.4062 - val_loss: 150477.6562\n",
      "Epoch 45/400\n",
      "143/143 [==============================] - 0s 2ms/step - loss: 168124.4688 - val_loss: 149341.5938\n",
      "Epoch 46/400\n",
      "143/143 [==============================] - 0s 3ms/step - loss: 166521.2500 - val_loss: 149379.6094\n",
      "Epoch 47/400\n",
      "143/143 [==============================] - 0s 3ms/step - loss: 167626.2656 - val_loss: 149362.2188\n",
      "Epoch 48/400\n",
      "143/143 [==============================] - 0s 2ms/step - loss: 167194.9375 - val_loss: 149098.0781\n",
      "Epoch 49/400\n",
      "143/143 [==============================] - 0s 3ms/step - loss: 166796.6406 - val_loss: 149637.0938\n",
      "Epoch 50/400\n",
      "143/143 [==============================] - 0s 3ms/step - loss: 167553.2031 - val_loss: 150195.5156\n",
      "Epoch 51/400\n",
      "143/143 [==============================] - 0s 3ms/step - loss: 166248.0312 - val_loss: 148966.4688\n",
      "Epoch 52/400\n",
      "143/143 [==============================] - 0s 2ms/step - loss: 166601.1875 - val_loss: 148603.7031\n",
      "Epoch 53/400\n",
      "143/143 [==============================] - 0s 2ms/step - loss: 166430.5469 - val_loss: 150946.1406\n",
      "Epoch 54/400\n",
      "143/143 [==============================] - 0s 2ms/step - loss: 166653.7500 - val_loss: 148509.5000\n",
      "Epoch 55/400\n",
      "143/143 [==============================] - ETA: 0s - loss: 165730.01 - 0s 2ms/step - loss: 166841.7031 - val_loss: 149821.3906\n",
      "Epoch 56/400\n",
      "143/143 [==============================] - 0s 2ms/step - loss: 164897.0781 - val_loss: 148124.4062\n",
      "Epoch 57/400\n",
      "143/143 [==============================] - 0s 2ms/step - loss: 165825.9844 - val_loss: 147783.1094\n",
      "Epoch 58/400\n",
      "143/143 [==============================] - 0s 2ms/step - loss: 165344.5625 - val_loss: 148611.5000\n",
      "Epoch 59/400\n",
      "143/143 [==============================] - 0s 3ms/step - loss: 164202.1719 - val_loss: 147732.3594\n",
      "Epoch 60/400\n",
      "143/143 [==============================] - 0s 2ms/step - loss: 164983.7031 - val_loss: 147273.2031\n",
      "Epoch 61/400\n",
      "143/143 [==============================] - 0s 3ms/step - loss: 164603.3438 - val_loss: 147778.4375\n",
      "Epoch 62/400\n",
      "143/143 [==============================] - 0s 3ms/step - loss: 164891.0469 - val_loss: 147701.9531\n",
      "Epoch 63/400\n",
      "143/143 [==============================] - 0s 2ms/step - loss: 163354.0312 - val_loss: 147303.4062\n",
      "Epoch 64/400\n",
      "143/143 [==============================] - 0s 2ms/step - loss: 164593.7188 - val_loss: 147185.2500\n",
      "Epoch 65/400\n",
      "143/143 [==============================] - 0s 2ms/step - loss: 162943.0156 - val_loss: 146680.4844\n",
      "Epoch 66/400\n",
      "143/143 [==============================] - 0s 2ms/step - loss: 161910.7656 - val_loss: 146804.1719\n",
      "Epoch 67/400\n",
      "143/143 [==============================] - 0s 3ms/step - loss: 162119.7500 - val_loss: 146907.7188\n",
      "Epoch 68/400\n",
      "143/143 [==============================] - 0s 3ms/step - loss: 161781.3750 - val_loss: 148463.7344\n",
      "Epoch 69/400\n",
      "143/143 [==============================] - 0s 2ms/step - loss: 163103.9219 - val_loss: 146319.4844\n",
      "Epoch 70/400\n",
      "143/143 [==============================] - 0s 2ms/step - loss: 162369.0938 - val_loss: 146365.1719\n",
      "Epoch 71/400\n",
      "143/143 [==============================] - 0s 3ms/step - loss: 162035.7969 - val_loss: 146472.1875\n",
      "Epoch 72/400\n",
      "143/143 [==============================] - 0s 3ms/step - loss: 161455.2969 - val_loss: 146093.0469\n",
      "Epoch 73/400\n"
     ]
    },
    {
     "name": "stdout",
     "output_type": "stream",
     "text": [
      "143/143 [==============================] - 0s 2ms/step - loss: 161815.6562 - val_loss: 146302.2344\n",
      "Epoch 74/400\n",
      "143/143 [==============================] - 0s 2ms/step - loss: 159929.1562 - val_loss: 146466.4688\n",
      "Epoch 75/400\n",
      "143/143 [==============================] - 0s 2ms/step - loss: 160846.4844 - val_loss: 145681.7031\n",
      "Epoch 76/400\n",
      "143/143 [==============================] - 0s 3ms/step - loss: 160958.5156 - val_loss: 145859.0781\n",
      "Epoch 77/400\n",
      "143/143 [==============================] - 0s 2ms/step - loss: 160042.9688 - val_loss: 145717.5000\n",
      "Epoch 78/400\n",
      "143/143 [==============================] - 0s 2ms/step - loss: 159604.9375 - val_loss: 146033.2344\n",
      "Epoch 79/400\n",
      "143/143 [==============================] - 0s 2ms/step - loss: 158873.0156 - val_loss: 148611.0469\n",
      "Epoch 80/400\n",
      "143/143 [==============================] - 0s 2ms/step - loss: 158029.6250 - val_loss: 146790.6406\n",
      "Epoch 81/400\n",
      "143/143 [==============================] - 0s 2ms/step - loss: 159219.5781 - val_loss: 145761.7656\n",
      "Epoch 82/400\n",
      "143/143 [==============================] - 0s 2ms/step - loss: 159762.1719 - val_loss: 144840.8125\n",
      "Epoch 83/400\n",
      "143/143 [==============================] - 0s 2ms/step - loss: 158500.2812 - val_loss: 149946.2500\n",
      "Epoch 84/400\n",
      "143/143 [==============================] - 0s 3ms/step - loss: 159166.1562 - val_loss: 145403.3906\n",
      "Epoch 85/400\n",
      "143/143 [==============================] - 0s 3ms/step - loss: 158627.4219 - val_loss: 145291.5469\n",
      "Epoch 86/400\n",
      "143/143 [==============================] - 0s 2ms/step - loss: 157646.7969 - val_loss: 144455.9219\n",
      "Epoch 87/400\n",
      "143/143 [==============================] - 0s 2ms/step - loss: 158773.5938 - val_loss: 144535.2812\n",
      "Epoch 88/400\n",
      "143/143 [==============================] - 0s 2ms/step - loss: 157540.7969 - val_loss: 146814.8438\n",
      "Epoch 89/400\n",
      "143/143 [==============================] - 0s 2ms/step - loss: 157642.7500 - val_loss: 144927.6719\n",
      "Epoch 90/400\n",
      "143/143 [==============================] - 0s 2ms/step - loss: 157000.9531 - val_loss: 145744.7344\n",
      "Epoch 91/400\n",
      "143/143 [==============================] - 0s 2ms/step - loss: 156216.0469 - val_loss: 146238.3438\n",
      "Epoch 92/400\n",
      "143/143 [==============================] - 0s 2ms/step - loss: 154933.9219 - val_loss: 147532.3906\n",
      "Epoch 93/400\n",
      "143/143 [==============================] - ETA: 0s - loss: 159136.64 - 0s 2ms/step - loss: 157359.7344 - val_loss: 145885.5781\n",
      "Epoch 94/400\n",
      "143/143 [==============================] - 0s 2ms/step - loss: 154927.2031 - val_loss: 144845.6719\n",
      "Epoch 95/400\n",
      "143/143 [==============================] - 0s 2ms/step - loss: 155925.9844 - val_loss: 145467.5469\n",
      "Epoch 96/400\n",
      "143/143 [==============================] - 0s 2ms/step - loss: 154616.8906 - val_loss: 144456.1719\n",
      "Epoch 97/400\n",
      "143/143 [==============================] - 0s 2ms/step - loss: 155409.5469 - val_loss: 145002.4531\n",
      "Epoch 98/400\n",
      "143/143 [==============================] - 0s 3ms/step - loss: 155237.4844 - val_loss: 145220.6719\n",
      "Epoch 99/400\n",
      "143/143 [==============================] - 0s 2ms/step - loss: 154734.6562 - val_loss: 145008.7500\n",
      "Epoch 100/400\n",
      "143/143 [==============================] - 0s 2ms/step - loss: 155171.4375 - val_loss: 146381.1094\n",
      "Epoch 101/400\n",
      "143/143 [==============================] - 0s 2ms/step - loss: 153666.2656 - val_loss: 144964.8594\n",
      "Epoch 102/400\n",
      "143/143 [==============================] - 0s 2ms/step - loss: 154771.2812 - val_loss: 144850.5469\n",
      "Epoch 103/400\n",
      "143/143 [==============================] - 0s 2ms/step - loss: 153533.0625 - val_loss: 144232.7344\n",
      "Epoch 104/400\n",
      "143/143 [==============================] - 0s 2ms/step - loss: 154000.2188 - val_loss: 144286.9062\n",
      "Epoch 105/400\n",
      "143/143 [==============================] - ETA: 0s - loss: 157900.71 - 0s 2ms/step - loss: 153769.5938 - val_loss: 146860.0625\n",
      "Epoch 106/400\n",
      "143/143 [==============================] - 0s 2ms/step - loss: 152714.5312 - val_loss: 145461.0625\n",
      "Epoch 107/400\n",
      "143/143 [==============================] - 0s 2ms/step - loss: 154551.6562 - val_loss: 143660.5156\n",
      "Epoch 108/400\n",
      "143/143 [==============================] - 0s 2ms/step - loss: 152479.3281 - val_loss: 143270.5469\n",
      "Epoch 109/400\n",
      "143/143 [==============================] - 0s 2ms/step - loss: 154143.7031 - val_loss: 143566.5938\n",
      "Epoch 110/400\n",
      "143/143 [==============================] - 0s 2ms/step - loss: 154517.8750 - val_loss: 144954.0312\n",
      "Epoch 111/400\n",
      "143/143 [==============================] - 0s 2ms/step - loss: 153249.1719 - val_loss: 143975.2500\n",
      "Epoch 112/400\n",
      "143/143 [==============================] - 0s 2ms/step - loss: 153332.0938 - val_loss: 149270.8125\n",
      "Epoch 113/400\n",
      "143/143 [==============================] - 0s 2ms/step - loss: 153334.7812 - val_loss: 144748.1875\n",
      "Epoch 114/400\n",
      "143/143 [==============================] - 0s 2ms/step - loss: 151858.1875 - val_loss: 145878.7344\n",
      "Epoch 115/400\n",
      "143/143 [==============================] - 0s 2ms/step - loss: 152589.9375 - val_loss: 143859.6094\n",
      "Epoch 116/400\n",
      "143/143 [==============================] - 0s 2ms/step - loss: 152680.9219 - val_loss: 144032.9219\n",
      "Epoch 117/400\n",
      "143/143 [==============================] - 0s 2ms/step - loss: 152193.5156 - val_loss: 143987.2031\n",
      "Epoch 118/400\n",
      "143/143 [==============================] - 0s 2ms/step - loss: 152078.5000 - val_loss: 145479.5000\n",
      "Epoch 119/400\n",
      "143/143 [==============================] - 0s 2ms/step - loss: 150563.1562 - val_loss: 144760.5781\n",
      "Epoch 120/400\n",
      "143/143 [==============================] - 0s 2ms/step - loss: 150261.0625 - val_loss: 143727.7344\n",
      "Epoch 121/400\n",
      "143/143 [==============================] - 0s 2ms/step - loss: 151039.4375 - val_loss: 143522.7969\n",
      "Epoch 122/400\n",
      "143/143 [==============================] - 0s 3ms/step - loss: 152153.7500 - val_loss: 145556.4062\n",
      "Epoch 123/400\n",
      "143/143 [==============================] - 0s 3ms/step - loss: 152671.8438 - val_loss: 143249.2656\n",
      "Epoch 124/400\n",
      "143/143 [==============================] - 0s 3ms/step - loss: 150364.0781 - val_loss: 144859.0938\n",
      "Epoch 125/400\n",
      "143/143 [==============================] - 0s 2ms/step - loss: 150719.8438 - val_loss: 143311.3594\n",
      "Epoch 126/400\n",
      "143/143 [==============================] - 0s 2ms/step - loss: 148442.1250 - val_loss: 143515.9688\n",
      "Epoch 127/400\n",
      "143/143 [==============================] - 0s 2ms/step - loss: 149691.4844 - val_loss: 145982.0156\n",
      "Epoch 128/400\n",
      "143/143 [==============================] - 0s 3ms/step - loss: 149615.3750 - val_loss: 142569.3438\n",
      "Epoch 129/400\n",
      "143/143 [==============================] - 0s 2ms/step - loss: 152439.8438 - val_loss: 145922.5312\n",
      "Epoch 130/400\n",
      "143/143 [==============================] - 0s 3ms/step - loss: 150298.9375 - val_loss: 142728.2969\n",
      "Epoch 131/400\n",
      "143/143 [==============================] - 0s 2ms/step - loss: 149760.5625 - val_loss: 142900.0938\n",
      "Epoch 132/400\n",
      "143/143 [==============================] - 0s 3ms/step - loss: 149952.5156 - val_loss: 143886.4062\n",
      "Epoch 133/400\n",
      "143/143 [==============================] - 0s 2ms/step - loss: 149671.3125 - val_loss: 143103.0625\n",
      "Epoch 134/400\n",
      "143/143 [==============================] - 0s 2ms/step - loss: 149356.3125 - val_loss: 143532.2969\n",
      "Epoch 135/400\n",
      "143/143 [==============================] - 0s 3ms/step - loss: 149616.0625 - val_loss: 143513.1875\n",
      "Epoch 136/400\n",
      "143/143 [==============================] - 0s 3ms/step - loss: 149268.0312 - val_loss: 144269.2656\n",
      "Epoch 137/400\n",
      "143/143 [==============================] - 0s 2ms/step - loss: 149333.7031 - val_loss: 146935.8750\n",
      "Epoch 138/400\n",
      "143/143 [==============================] - 0s 3ms/step - loss: 148919.0312 - val_loss: 144337.4219\n",
      "Epoch 139/400\n",
      "143/143 [==============================] - 0s 3ms/step - loss: 149425.5781 - val_loss: 143910.8281\n",
      "Epoch 140/400\n",
      "143/143 [==============================] - 0s 3ms/step - loss: 146485.2188 - val_loss: 145020.0781\n",
      "Epoch 141/400\n",
      "143/143 [==============================] - 0s 2ms/step - loss: 146728.3438 - val_loss: 143884.2500\n",
      "Epoch 142/400\n",
      "143/143 [==============================] - 0s 3ms/step - loss: 148173.9688 - val_loss: 143549.4219\n",
      "Epoch 143/400\n",
      "143/143 [==============================] - 0s 2ms/step - loss: 147263.0938 - val_loss: 143572.0781\n",
      "Epoch 144/400\n",
      "143/143 [==============================] - 0s 2ms/step - loss: 146357.2656 - val_loss: 145294.9219\n",
      "Epoch 145/400\n"
     ]
    },
    {
     "name": "stdout",
     "output_type": "stream",
     "text": [
      "143/143 [==============================] - 0s 2ms/step - loss: 145931.5625 - val_loss: 145100.7188\n",
      "Epoch 146/400\n",
      "143/143 [==============================] - 0s 2ms/step - loss: 147045.5156 - val_loss: 144237.6250\n",
      "Epoch 147/400\n",
      "143/143 [==============================] - 0s 2ms/step - loss: 148345.6094 - val_loss: 143268.4219\n",
      "Epoch 148/400\n",
      "143/143 [==============================] - 0s 2ms/step - loss: 148633.0781 - val_loss: 143940.7656\n",
      "Epoch 149/400\n",
      "143/143 [==============================] - 0s 2ms/step - loss: 146721.9219 - val_loss: 142285.2500\n",
      "Epoch 150/400\n",
      "143/143 [==============================] - 0s 2ms/step - loss: 148076.6250 - val_loss: 145668.3594\n",
      "Epoch 151/400\n",
      "143/143 [==============================] - 0s 2ms/step - loss: 146325.0000 - val_loss: 144386.6562\n",
      "Epoch 152/400\n",
      "143/143 [==============================] - 0s 2ms/step - loss: 146997.0000 - val_loss: 142651.5625\n",
      "Epoch 153/400\n",
      "143/143 [==============================] - 0s 2ms/step - loss: 148220.3906 - val_loss: 142408.6719\n",
      "Epoch 154/400\n",
      "143/143 [==============================] - 0s 2ms/step - loss: 144252.4844 - val_loss: 142531.6719\n",
      "Epoch 155/400\n",
      "143/143 [==============================] - 0s 2ms/step - loss: 146257.5000 - val_loss: 143300.4062\n",
      "Epoch 156/400\n",
      "143/143 [==============================] - 0s 2ms/step - loss: 144131.8125 - val_loss: 142450.6406\n",
      "Epoch 157/400\n",
      "143/143 [==============================] - 0s 2ms/step - loss: 144205.9844 - val_loss: 142915.6094\n",
      "Epoch 158/400\n",
      "143/143 [==============================] - 0s 2ms/step - loss: 145863.4219 - val_loss: 142198.9844\n",
      "Epoch 159/400\n",
      "143/143 [==============================] - 0s 2ms/step - loss: 145227.3906 - val_loss: 144069.8594\n",
      "Epoch 160/400\n",
      "143/143 [==============================] - 0s 2ms/step - loss: 145993.6094 - val_loss: 142787.2344\n",
      "Epoch 161/400\n",
      "143/143 [==============================] - 0s 2ms/step - loss: 144373.6875 - val_loss: 143325.7031\n",
      "Epoch 162/400\n",
      "143/143 [==============================] - 0s 2ms/step - loss: 144792.5938 - val_loss: 144391.8438\n",
      "Epoch 163/400\n",
      "143/143 [==============================] - 0s 2ms/step - loss: 144018.9375 - val_loss: 142377.9531\n",
      "Epoch 164/400\n",
      "143/143 [==============================] - 0s 2ms/step - loss: 144462.0156 - val_loss: 142480.6094\n",
      "Epoch 165/400\n",
      "143/143 [==============================] - 0s 2ms/step - loss: 146148.0469 - val_loss: 144194.6250\n",
      "Epoch 166/400\n",
      "143/143 [==============================] - 0s 2ms/step - loss: 144088.3281 - val_loss: 146395.0000\n",
      "Epoch 167/400\n",
      "143/143 [==============================] - 0s 2ms/step - loss: 143211.0156 - val_loss: 142549.8594\n",
      "Epoch 168/400\n",
      "143/143 [==============================] - 0s 2ms/step - loss: 143359.4062 - val_loss: 143270.0312\n",
      "Epoch 169/400\n",
      "143/143 [==============================] - 0s 2ms/step - loss: 143890.5156 - val_loss: 141799.0000\n",
      "Epoch 170/400\n",
      "143/143 [==============================] - 0s 2ms/step - loss: 143242.0781 - val_loss: 142953.1250\n",
      "Epoch 171/400\n",
      "143/143 [==============================] - 0s 2ms/step - loss: 143257.1406 - val_loss: 148088.6094\n",
      "Epoch 172/400\n",
      "143/143 [==============================] - 0s 2ms/step - loss: 143110.7344 - val_loss: 145254.0469\n",
      "Epoch 173/400\n",
      "143/143 [==============================] - 0s 3ms/step - loss: 144230.3750 - val_loss: 143448.9375\n",
      "Epoch 174/400\n",
      "143/143 [==============================] - 0s 2ms/step - loss: 143213.4688 - val_loss: 144162.4375\n",
      "Epoch 175/400\n",
      "143/143 [==============================] - 0s 2ms/step - loss: 142762.2188 - val_loss: 142664.7188\n",
      "Epoch 176/400\n",
      "143/143 [==============================] - 0s 3ms/step - loss: 142864.4531 - val_loss: 143465.1562\n",
      "Epoch 177/400\n",
      "143/143 [==============================] - 0s 3ms/step - loss: 141799.9688 - val_loss: 142972.3906\n",
      "Epoch 178/400\n",
      "143/143 [==============================] - 0s 2ms/step - loss: 142748.9219 - val_loss: 141612.7656\n",
      "Epoch 179/400\n",
      "143/143 [==============================] - 0s 2ms/step - loss: 143996.0469 - val_loss: 142369.7344\n",
      "Epoch 180/400\n",
      "143/143 [==============================] - 0s 2ms/step - loss: 143019.4375 - val_loss: 145609.6562\n",
      "Epoch 181/400\n",
      "143/143 [==============================] - 0s 2ms/step - loss: 142823.0938 - val_loss: 141385.4688\n",
      "Epoch 182/400\n",
      "143/143 [==============================] - 0s 2ms/step - loss: 143363.2656 - val_loss: 142225.9688\n",
      "Epoch 183/400\n",
      "143/143 [==============================] - 0s 2ms/step - loss: 143231.7031 - val_loss: 142637.7656\n",
      "Epoch 184/400\n",
      "143/143 [==============================] - 0s 2ms/step - loss: 141421.2812 - val_loss: 142866.8594\n",
      "Epoch 185/400\n",
      "143/143 [==============================] - 0s 2ms/step - loss: 141916.7188 - val_loss: 144552.7656\n",
      "Epoch 186/400\n",
      "143/143 [==============================] - 0s 2ms/step - loss: 140852.5000 - val_loss: 145972.2500\n",
      "Epoch 187/400\n",
      "143/143 [==============================] - 0s 2ms/step - loss: 141165.5000 - val_loss: 142753.7812\n",
      "Epoch 188/400\n",
      "143/143 [==============================] - 0s 2ms/step - loss: 141712.5156 - val_loss: 142517.2656\n",
      "Epoch 189/400\n",
      "143/143 [==============================] - 0s 3ms/step - loss: 140338.1250 - val_loss: 141980.8125\n",
      "Epoch 190/400\n",
      "143/143 [==============================] - 0s 2ms/step - loss: 141708.3750 - val_loss: 142557.9062\n",
      "Epoch 191/400\n",
      "143/143 [==============================] - 0s 2ms/step - loss: 141067.4375 - val_loss: 143481.2031\n",
      "Epoch 192/400\n",
      "143/143 [==============================] - 0s 2ms/step - loss: 141794.4375 - val_loss: 141586.0312\n",
      "Epoch 193/400\n",
      "143/143 [==============================] - 0s 2ms/step - loss: 141356.7344 - val_loss: 141533.7344\n",
      "Epoch 194/400\n",
      "143/143 [==============================] - 0s 2ms/step - loss: 142946.8750 - val_loss: 142112.2969\n",
      "Epoch 195/400\n",
      "143/143 [==============================] - 0s 3ms/step - loss: 138621.5156 - val_loss: 141886.2969\n",
      "Epoch 196/400\n",
      "143/143 [==============================] - 0s 2ms/step - loss: 141167.6719 - val_loss: 141524.2969\n",
      "Epoch 197/400\n",
      "143/143 [==============================] - 0s 3ms/step - loss: 139470.0000 - val_loss: 143120.6875\n",
      "Epoch 198/400\n",
      "143/143 [==============================] - 0s 3ms/step - loss: 139988.2969 - val_loss: 144670.8594\n",
      "Epoch 199/400\n",
      "143/143 [==============================] - 0s 2ms/step - loss: 141464.8594 - val_loss: 142265.0000\n",
      "Epoch 200/400\n",
      "143/143 [==============================] - 0s 2ms/step - loss: 140760.7031 - val_loss: 142378.5781\n",
      "Epoch 201/400\n",
      "143/143 [==============================] - 0s 2ms/step - loss: 138926.7188 - val_loss: 144208.6719\n",
      "Epoch 202/400\n",
      "143/143 [==============================] - 0s 2ms/step - loss: 140847.5312 - val_loss: 142504.3281\n",
      "Epoch 203/400\n",
      "143/143 [==============================] - 0s 2ms/step - loss: 140254.5625 - val_loss: 142160.6094\n",
      "Epoch 204/400\n",
      "143/143 [==============================] - 0s 2ms/step - loss: 139614.3438 - val_loss: 141597.0000\n",
      "Epoch 205/400\n",
      "143/143 [==============================] - 0s 3ms/step - loss: 140125.4062 - val_loss: 141937.0312\n",
      "Epoch 206/400\n",
      "143/143 [==============================] - 0s 2ms/step - loss: 138130.1250 - val_loss: 142678.1875\n",
      "Epoch 00206: early stopping\n"
     ]
    },
    {
     "data": {
      "text/plain": [
       "<keras.callbacks.History at 0x1e252c4c790>"
      ]
     },
     "execution_count": 13,
     "metadata": {},
     "output_type": "execute_result"
    }
   ],
   "source": [
    "model.fit(x=X_train,\n",
    "        y=y_train,\n",
    "        validation_data=(X_test,y_test),\n",
    "        batch_size=batchsize,\n",
    "        epochs=epochs,\n",
    "        verbose=1,\n",
    "        callbacks=[early_stop])"
   ]
  },
  {
   "cell_type": "code",
   "execution_count": 14,
   "metadata": {},
   "outputs": [],
   "source": [
    "losses = pd.DataFrame(model.history.history)"
   ]
  },
  {
   "cell_type": "code",
   "execution_count": 15,
   "metadata": {},
   "outputs": [
    {
     "data": {
      "text/plain": [
       "<AxesSubplot:>"
      ]
     },
     "execution_count": 15,
     "metadata": {},
     "output_type": "execute_result"
    },
    {
     "data": {
      "image/png": "[encoded data removed]",
      "text/plain": [
       "<Figure size 1008x576 with 1 Axes>"
      ]
     },
     "metadata": {},
     "output_type": "display_data"
    }
   ],
   "source": [
    "losses.plot()"
   ]
  },
  {
   "cell_type": "markdown",
   "metadata": {},
   "source": [
    "### Evaluation Metrics"
   ]
  },
  {
   "cell_type": "code",
   "execution_count": 16,
   "metadata": {},
   "outputs": [],
   "source": [
    "def eval_metrics_timeseries(real_values,pred,name='Variable'):\n",
    "    print(f\"\"\"\n",
    "        ------- {name} ------\n",
    "        \n",
    "MAE: {mean_absolute_error(real_values,pred):.3f},\n",
    "MSE: {mean_squared_error(real_values,pred):.3f},\n",
    "RMSE: {np.sqrt(mean_squared_error(real_values,pred)):.3f},\n",
    "Explained Variance Score: {explained_variance_score(real_values,pred)*100:.3f}%,\n",
    "\n",
    "Compare Mean values per Year: Predictions VS Real:\n",
    "\n",
    "{pd.concat([pd.DataFrame(real_values).mean(),pd.DataFrame(pred).mean()],axis=1,keys=['Avg real',' Avg Pred'],names='Year')}\n",
    "    \"\"\")"
   ]
  },
  {
   "cell_type": "code",
   "execution_count": 17,
   "metadata": {},
   "outputs": [],
   "source": [
    "predictions_Power = model.predict(X_test)"
   ]
  },
  {
   "cell_type": "code",
   "execution_count": 18,
   "metadata": {},
   "outputs": [
    {
     "name": "stdout",
     "output_type": "stream",
     "text": [
      "\n",
      "        ------- Power Output (KW) ------\n",
      "        \n",
      "MAE: 140.111,\n",
      "MSE: 142678.172,\n",
      "RMSE: 377.728,\n",
      "Explained Variance Score: 15.056%,\n",
      "\n",
      "Compare Mean values per Year: Predictions VS Real:\n",
      "\n",
      "Year    Avg real    Avg Pred\n",
      "0     235.516815  197.846909\n",
      "1     159.037330  145.970200\n",
      "2     142.754770  133.499100\n",
      "3     132.279116  125.404968\n",
      "4     124.666695  119.338409\n",
      "5     118.639608  114.546120\n",
      "6     113.511415  110.557426\n",
      "7     109.183204  107.148712\n",
      "8     105.539911  104.187347\n",
      "9     102.462820  101.655937\n",
      "10     99.755893   99.447411\n",
      "11     97.355710   97.415871\n",
      "12     95.211355   95.590134\n",
      "13     93.310488   93.961838\n",
      "14     91.637579   92.585777\n",
      "15     90.086503   91.233337\n",
      "16     88.629380   89.957314\n",
      "17     87.246608   88.868340\n",
      "18     85.964395   87.763962\n",
      "19     84.780345   86.761467\n",
      "    \n"
     ]
    }
   ],
   "source": [
    "eval_metrics_timeseries(y_test,predictions_Power,name='Power Output (KW)')"
   ]
  },
  {
   "cell_type": "code",
   "execution_count": 19,
   "metadata": {},
   "outputs": [
    {
     "data": {
      "text/plain": [
       "<AxesSubplot:title={'center':'Avg Power Output: Predicted Vs Real values'}>"
      ]
     },
     "execution_count": 19,
     "metadata": {},
     "output_type": "execute_result"
    },
    {
     "data": {
      "image/png": "[encoded data removed]",
      "text/plain": [
       "<Figure size 1008x576 with 1 Axes>"
      ]
     },
     "metadata": {},
     "output_type": "display_data"
    }
   ],
   "source": [
    "pd.DataFrame(predictions_Power,columns=df_Power.columns).mean().plot(legend=True,label='Avg Power output PRED',\n",
    "                                                                           title='Avg Power Output: Predicted Vs Real values')\n",
    "pd.DataFrame(y_test,columns=df_Power.columns).mean().plot(legend=True,label='Avg Power output REAL')"
   ]
  },
  {
   "cell_type": "markdown",
   "metadata": {},
   "source": [
    "### END"
   ]
  }
 ],
 "metadata": {
  "kernelspec": {
   "display_name": "Python 3",
   "language": "python",
   "name": "python3"
  },
  "language_info": {
   "codemirror_mode": {
    "name": "ipython",
    "version": 3
   },
   "file_extension": ".py",
   "mimetype": "text/x-python",
   "name": "python",
   "nbconvert_exporter": "python",
   "pygments_lexer": "ipython3",
   "version": "3.8.5"
  }
 },
 "nbformat": 4,
 "nbformat_minor": 4
}

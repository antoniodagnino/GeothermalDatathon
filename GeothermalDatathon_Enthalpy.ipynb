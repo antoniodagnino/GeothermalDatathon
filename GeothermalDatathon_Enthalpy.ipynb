{
 "cells": [
  {
   "cell_type": "markdown",
   "metadata": {},
   "source": [
    "# PIVOT 2022 Geothermal Datathon: SPE - Gulf Coast Section\n",
    "## Data Modeling: Power Enthalpy\n",
    "\n",
    "\n",
    "#### - Team: \n",
    "GeotherML    \n",
    "    \n",
    "#### - Team Members:\n",
    "- Antonio Dagnino\n",
    "- Andres Calvo\n",
    "- Oliver Rojas\n",
    "- Yusuf Falola\n",
    "- Chandryl Paterne    \n",
    "    \n",
    "#### - Contents:\n",
    "\n",
    "   - **Data Modeling: Power Enthalpy**\n",
    "       - Import inputs and outputs\n",
    "       - Train / Test split\n",
    "       - Scale Data\n",
    "       - Create Neural Network\n",
    "       - Fit the Model\n",
    "       \n",
    "\n",
    "   - **Evaluation Metrics**\n",
    "       - MAE\n",
    "       - MSE\n",
    "       - RMSE\n",
    "       - Explained variance score\n",
    "       - Compare mean values per year: Predictions Vs Real\n",
    "\n"
   ]
  },
  {
   "cell_type": "markdown",
   "metadata": {},
   "source": [
    "### Data Modeling: Power Enthalpy"
   ]
  },
  {
   "cell_type": "markdown",
   "metadata": {},
   "source": [
    "- Data Modeling Imports"
   ]
  },
  {
   "cell_type": "code",
   "execution_count": 1,
   "metadata": {},
   "outputs": [],
   "source": [
    "import numpy as np\n",
    "import pandas as pd\n",
    "import matplotlib.pyplot as plt\n",
    "import seaborn as sns\n",
    "%matplotlib inline\n",
    "from pylab import rcParams\n",
    "\n",
    "# Ignore harmless warnings\n",
    "import warnings\n",
    "warnings.filterwarnings(\"ignore\")\n",
    "\n",
    "from sklearn.model_selection import train_test_split\n",
    "from sklearn.preprocessing import MinMaxScaler\n",
    "\n",
    "from tensorflow.keras.models import Sequential\n",
    "from tensorflow.keras.layers import Dense, Activation\n",
    "from tensorflow.keras.optimizers import Adam\n",
    "from tensorflow.keras.callbacks import EarlyStopping\n",
    "\n",
    "\n",
    "from sklearn.metrics import mean_squared_error, mean_absolute_error,explained_variance_score"
   ]
  },
  {
   "cell_type": "code",
   "execution_count": 2,
   "metadata": {},
   "outputs": [],
   "source": [
    "# Customize Plots\n",
    "rcParams['figure.figsize'] = 14,8\n",
    "rcParams['axes.titlesize'] = 15\n",
    "rcParams['font.size']=10\n",
    "sns.set_style('whitegrid')\n",
    "\n",
    "#show all columns in Jupyter Notebook\n",
    "pd.set_option(\"display.max_columns\", None)"
   ]
  },
  {
   "cell_type": "code",
   "execution_count": 3,
   "metadata": {},
   "outputs": [],
   "source": [
    "inputs = pd.read_csv('inputs.csv',index_col=0)\n",
    "df_Enthalpy = pd.read_csv('df_Enthalpy.csv',index_col=0)"
   ]
  },
  {
   "cell_type": "markdown",
   "metadata": {},
   "source": [
    "- Train / Test split"
   ]
  },
  {
   "cell_type": "code",
   "execution_count": 4,
   "metadata": {},
   "outputs": [],
   "source": [
    "X_train, X_test, y_train, y_test = train_test_split(inputs.values,df_Enthalpy.values,test_size=0.2,random_state=101)"
   ]
  },
  {
   "cell_type": "markdown",
   "metadata": {},
   "source": [
    "- Scale Data"
   ]
  },
  {
   "cell_type": "code",
   "execution_count": 5,
   "metadata": {},
   "outputs": [],
   "source": [
    "scaler = MinMaxScaler()"
   ]
  },
  {
   "cell_type": "code",
   "execution_count": 6,
   "metadata": {},
   "outputs": [],
   "source": [
    "X_train = scaler.fit_transform(X_train)"
   ]
  },
  {
   "cell_type": "code",
   "execution_count": 7,
   "metadata": {},
   "outputs": [],
   "source": [
    "X_test = scaler.transform(X_test)"
   ]
  },
  {
   "cell_type": "code",
   "execution_count": 8,
   "metadata": {},
   "outputs": [
    {
     "data": {
      "text/plain": [
       "(36388, 37)"
      ]
     },
     "execution_count": 8,
     "metadata": {},
     "output_type": "execute_result"
    }
   ],
   "source": [
    "X_train.shape"
   ]
  },
  {
   "cell_type": "code",
   "execution_count": 9,
   "metadata": {},
   "outputs": [
    {
     "data": {
      "text/plain": [
       "(9097, 37)"
      ]
     },
     "execution_count": 9,
     "metadata": {},
     "output_type": "execute_result"
    }
   ],
   "source": [
    "X_test.shape"
   ]
  },
  {
   "cell_type": "markdown",
   "metadata": {},
   "source": [
    "- Create Neural Network"
   ]
  },
  {
   "cell_type": "code",
   "execution_count": 10,
   "metadata": {},
   "outputs": [],
   "source": [
    "model = Sequential()\n",
    "\n",
    "model.add(Dense(37,activation='relu'))\n",
    "model.add(Dense(37,activation='relu'))\n",
    "model.add(Dense(37,activation='relu'))\n",
    "model.add(Dense(37,activation='relu'))\n",
    "model.add(Dense(20))\n",
    "\n",
    "\n",
    "model.compile(optimizer='adam',loss='mse')"
   ]
  },
  {
   "cell_type": "markdown",
   "metadata": {},
   "source": [
    "- Fit the Model"
   ]
  },
  {
   "cell_type": "code",
   "execution_count": 11,
   "metadata": {},
   "outputs": [],
   "source": [
    "# - Hyperparameter Tunning:\n",
    "\n",
    "batchsize = 128\n",
    "epochs = 400"
   ]
  },
  {
   "cell_type": "code",
   "execution_count": 12,
   "metadata": {},
   "outputs": [],
   "source": [
    "early_stop = EarlyStopping(monitor='val_loss', mode='min', verbose=1, patience=25)"
   ]
  },
  {
   "cell_type": "code",
   "execution_count": 13,
   "metadata": {},
   "outputs": [
    {
     "name": "stdout",
     "output_type": "stream",
     "text": [
      "Epoch 1/400\n",
      "285/285 [==============================] - 1s 2ms/step - loss: 158995.7969 - val_loss: 39075.2500\n",
      "Epoch 2/400\n",
      "285/285 [==============================] - 0s 2ms/step - loss: 32080.3984 - val_loss: 28947.6309\n",
      "Epoch 3/400\n",
      "285/285 [==============================] - 0s 2ms/step - loss: 28509.8789 - val_loss: 27869.4004\n",
      "Epoch 4/400\n",
      "285/285 [==============================] - 0s 2ms/step - loss: 27268.1074 - val_loss: 26674.5312\n",
      "Epoch 5/400\n",
      "285/285 [==============================] - 0s 2ms/step - loss: 25171.6250 - val_loss: 23974.0898\n",
      "Epoch 6/400\n",
      "285/285 [==============================] - 0s 2ms/step - loss: 22710.9238 - val_loss: 21819.8613\n",
      "Epoch 7/400\n",
      "285/285 [==============================] - 0s 2ms/step - loss: 20827.8887 - val_loss: 20343.8281\n",
      "Epoch 8/400\n",
      "285/285 [==============================] - 1s 2ms/step - loss: 19763.3984 - val_loss: 19676.0156\n",
      "Epoch 9/400\n",
      "285/285 [==============================] - 1s 2ms/step - loss: 19116.3984 - val_loss: 18989.4766\n",
      "Epoch 10/400\n",
      "285/285 [==============================] - 1s 2ms/step - loss: 18797.0449 - val_loss: 18780.7871\n",
      "Epoch 11/400\n",
      "285/285 [==============================] - 1s 2ms/step - loss: 18357.0820 - val_loss: 18260.9180\n",
      "Epoch 12/400\n",
      "285/285 [==============================] - 1s 2ms/step - loss: 18072.0664 - val_loss: 18007.7930\n",
      "Epoch 13/400\n",
      "285/285 [==============================] - 1s 2ms/step - loss: 17844.9688 - val_loss: 18007.2031\n",
      "Epoch 14/400\n",
      "285/285 [==============================] - 1s 2ms/step - loss: 17547.2480 - val_loss: 17531.6484\n",
      "Epoch 15/400\n",
      "285/285 [==============================] - 0s 2ms/step - loss: 17262.5840 - val_loss: 17479.0020\n",
      "Epoch 16/400\n",
      "285/285 [==============================] - 1s 2ms/step - loss: 16972.7109 - val_loss: 17284.5566\n",
      "Epoch 17/400\n",
      "285/285 [==============================] - 0s 2ms/step - loss: 16609.3359 - val_loss: 16598.0176\n",
      "Epoch 18/400\n",
      "285/285 [==============================] - 1s 2ms/step - loss: 16189.3340 - val_loss: 16539.5586\n",
      "Epoch 19/400\n",
      "285/285 [==============================] - 0s 2ms/step - loss: 15942.7930 - val_loss: 16375.6758\n",
      "Epoch 20/400\n",
      "285/285 [==============================] - 0s 2ms/step - loss: 15686.2715 - val_loss: 15799.9658\n",
      "Epoch 21/400\n",
      "285/285 [==============================] - 1s 2ms/step - loss: 15359.6094 - val_loss: 15623.1758\n",
      "Epoch 22/400\n",
      "285/285 [==============================] - 1s 2ms/step - loss: 15099.8281 - val_loss: 15115.9287\n",
      "Epoch 23/400\n",
      "285/285 [==============================] - 0s 2ms/step - loss: 14934.9258 - val_loss: 15209.1973\n",
      "Epoch 24/400\n",
      "285/285 [==============================] - 0s 2ms/step - loss: 14758.3457 - val_loss: 15227.5381\n",
      "Epoch 25/400\n",
      "285/285 [==============================] - 1s 2ms/step - loss: 14527.2051 - val_loss: 15085.9277\n",
      "Epoch 26/400\n",
      "285/285 [==============================] - 1s 2ms/step - loss: 14532.4043 - val_loss: 14482.7002\n",
      "Epoch 27/400\n",
      "285/285 [==============================] - 1s 2ms/step - loss: 14282.4834 - val_loss: 14754.8760\n",
      "Epoch 28/400\n",
      "285/285 [==============================] - 0s 2ms/step - loss: 14164.4980 - val_loss: 14308.8027\n",
      "Epoch 29/400\n",
      "285/285 [==============================] - 0s 2ms/step - loss: 13980.9502 - val_loss: 14263.3965\n",
      "Epoch 30/400\n",
      "285/285 [==============================] - 1s 2ms/step - loss: 13967.5166 - val_loss: 14189.0938\n",
      "Epoch 31/400\n",
      "285/285 [==============================] - 1s 2ms/step - loss: 13750.8838 - val_loss: 13829.6572\n",
      "Epoch 32/400\n",
      "285/285 [==============================] - 0s 2ms/step - loss: 13589.8740 - val_loss: 13739.6465\n",
      "Epoch 33/400\n",
      "285/285 [==============================] - 0s 2ms/step - loss: 13552.0244 - val_loss: 14252.8086\n",
      "Epoch 34/400\n",
      "285/285 [==============================] - 0s 2ms/step - loss: 13486.2588 - val_loss: 13519.7266\n",
      "Epoch 35/400\n",
      "285/285 [==============================] - 0s 2ms/step - loss: 13328.9365 - val_loss: 14493.9160\n",
      "Epoch 36/400\n",
      "285/285 [==============================] - 0s 2ms/step - loss: 13265.7793 - val_loss: 13526.4746\n",
      "Epoch 37/400\n",
      "285/285 [==============================] - 0s 2ms/step - loss: 13171.8096 - val_loss: 13469.0361\n",
      "Epoch 38/400\n",
      "285/285 [==============================] - 0s 2ms/step - loss: 13100.6621 - val_loss: 13211.8633\n",
      "Epoch 39/400\n",
      "285/285 [==============================] - 0s 2ms/step - loss: 12959.6650 - val_loss: 13153.2178\n",
      "Epoch 40/400\n",
      "285/285 [==============================] - 0s 2ms/step - loss: 12926.9580 - val_loss: 13221.8662\n",
      "Epoch 41/400\n",
      "285/285 [==============================] - 0s 2ms/step - loss: 12770.0811 - val_loss: 13159.8975\n",
      "Epoch 42/400\n",
      "285/285 [==============================] - 0s 2ms/step - loss: 12791.9102 - val_loss: 12950.7119\n",
      "Epoch 43/400\n",
      "285/285 [==============================] - 0s 2ms/step - loss: 12683.2500 - val_loss: 12874.6299\n",
      "Epoch 44/400\n",
      "285/285 [==============================] - 0s 2ms/step - loss: 12630.4453 - val_loss: 12864.0107\n",
      "Epoch 45/400\n",
      "285/285 [==============================] - 1s 2ms/step - loss: 12568.0156 - val_loss: 12919.1289\n",
      "Epoch 46/400\n",
      "285/285 [==============================] - 0s 2ms/step - loss: 12478.4727 - val_loss: 12680.8350\n",
      "Epoch 47/400\n",
      "285/285 [==============================] - 1s 2ms/step - loss: 12477.6074 - val_loss: 12761.2783\n",
      "Epoch 48/400\n",
      "285/285 [==============================] - 0s 2ms/step - loss: 12424.1699 - val_loss: 12691.7812\n",
      "Epoch 49/400\n",
      "285/285 [==============================] - 0s 2ms/step - loss: 12413.1025 - val_loss: 12597.5322\n",
      "Epoch 50/400\n",
      "285/285 [==============================] - 1s 2ms/step - loss: 12372.2793 - val_loss: 13059.1816\n",
      "Epoch 51/400\n",
      "285/285 [==============================] - 0s 2ms/step - loss: 12346.6074 - val_loss: 12618.6982\n",
      "Epoch 52/400\n",
      "285/285 [==============================] - 0s 2ms/step - loss: 12253.8623 - val_loss: 12526.7588\n",
      "Epoch 53/400\n",
      "285/285 [==============================] - 0s 2ms/step - loss: 12305.6553 - val_loss: 12632.5088\n",
      "Epoch 54/400\n",
      "285/285 [==============================] - 0s 2ms/step - loss: 12256.8926 - val_loss: 12638.9775\n",
      "Epoch 55/400\n",
      "285/285 [==============================] - 0s 2ms/step - loss: 12272.0986 - val_loss: 12934.8564\n",
      "Epoch 56/400\n",
      "285/285 [==============================] - 0s 2ms/step - loss: 12280.3281 - val_loss: 12572.0029\n",
      "Epoch 57/400\n",
      "285/285 [==============================] - 0s 2ms/step - loss: 12172.9766 - val_loss: 12383.1895\n",
      "Epoch 58/400\n",
      "285/285 [==============================] - 1s 2ms/step - loss: 12096.7383 - val_loss: 12604.1602\n",
      "Epoch 59/400\n",
      "285/285 [==============================] - 0s 2ms/step - loss: 12092.9189 - val_loss: 12264.6816\n",
      "Epoch 60/400\n",
      "285/285 [==============================] - 0s 2ms/step - loss: 12115.7373 - val_loss: 12791.3584\n",
      "Epoch 61/400\n",
      "285/285 [==============================] - 0s 2ms/step - loss: 12067.1475 - val_loss: 12228.8926\n",
      "Epoch 62/400\n",
      "285/285 [==============================] - 0s 2ms/step - loss: 12039.2402 - val_loss: 12196.9082\n",
      "Epoch 63/400\n",
      "285/285 [==============================] - 0s 2ms/step - loss: 12019.7021 - val_loss: 12620.3389\n",
      "Epoch 64/400\n",
      "285/285 [==============================] - 0s 2ms/step - loss: 12032.7588 - val_loss: 12484.8223\n",
      "Epoch 65/400\n",
      "285/285 [==============================] - 0s 2ms/step - loss: 11945.8076 - val_loss: 12334.1660\n",
      "Epoch 66/400\n",
      "285/285 [==============================] - 0s 2ms/step - loss: 11916.6602 - val_loss: 12134.3125\n",
      "Epoch 67/400\n",
      "285/285 [==============================] - 0s 2ms/step - loss: 11918.7959 - val_loss: 12072.5674\n",
      "Epoch 68/400\n",
      "285/285 [==============================] - 0s 2ms/step - loss: 11877.8027 - val_loss: 12175.5967\n",
      "Epoch 69/400\n",
      "285/285 [==============================] - 0s 2ms/step - loss: 11907.0234 - val_loss: 12142.6045\n",
      "Epoch 70/400\n",
      "285/285 [==============================] - 1s 2ms/step - loss: 11872.9102 - val_loss: 12469.6797\n",
      "Epoch 71/400\n",
      "285/285 [==============================] - 0s 2ms/step - loss: 11831.7676 - val_loss: 12018.3057\n",
      "Epoch 72/400\n",
      "285/285 [==============================] - 0s 2ms/step - loss: 11800.8076 - val_loss: 12126.0615\n",
      "Epoch 73/400\n",
      "285/285 [==============================] - 0s 2ms/step - loss: 11852.6934 - val_loss: 12298.9951\n",
      "Epoch 74/400\n",
      "285/285 [==============================] - 0s 2ms/step - loss: 11803.2373 - val_loss: 12901.7607\n",
      "Epoch 75/400\n"
     ]
    },
    {
     "name": "stdout",
     "output_type": "stream",
     "text": [
      "285/285 [==============================] - 0s 2ms/step - loss: 11747.1318 - val_loss: 12029.0068\n",
      "Epoch 76/400\n",
      "285/285 [==============================] - 0s 2ms/step - loss: 11790.2002 - val_loss: 12017.9922\n",
      "Epoch 77/400\n",
      "285/285 [==============================] - 1s 2ms/step - loss: 11707.8711 - val_loss: 12328.0527\n",
      "Epoch 78/400\n",
      "285/285 [==============================] - 0s 2ms/step - loss: 11669.3125 - val_loss: 12015.4609\n",
      "Epoch 79/400\n",
      "285/285 [==============================] - 1s 2ms/step - loss: 11683.5098 - val_loss: 11902.4150\n",
      "Epoch 80/400\n",
      "285/285 [==============================] - 0s 2ms/step - loss: 11682.0557 - val_loss: 11931.0986\n",
      "Epoch 81/400\n",
      "285/285 [==============================] - 1s 2ms/step - loss: 11614.9414 - val_loss: 11956.2666\n",
      "Epoch 82/400\n",
      "285/285 [==============================] - 0s 2ms/step - loss: 11676.7881 - val_loss: 11833.3867\n",
      "Epoch 83/400\n",
      "285/285 [==============================] - 1s 2ms/step - loss: 11616.9697 - val_loss: 12440.1357\n",
      "Epoch 84/400\n",
      "285/285 [==============================] - 0s 2ms/step - loss: 11519.9062 - val_loss: 11868.4648\n",
      "Epoch 85/400\n",
      "285/285 [==============================] - 0s 2ms/step - loss: 11580.8633 - val_loss: 11896.2314\n",
      "Epoch 86/400\n",
      "285/285 [==============================] - 0s 2ms/step - loss: 11546.3789 - val_loss: 11758.5566\n",
      "Epoch 87/400\n",
      "285/285 [==============================] - ETA: 0s - loss: 11552.697 - 1s 2ms/step - loss: 11533.4014 - val_loss: 11823.9688\n",
      "Epoch 88/400\n",
      "285/285 [==============================] - 0s 2ms/step - loss: 11496.3223 - val_loss: 11752.9072\n",
      "Epoch 89/400\n",
      "285/285 [==============================] - 0s 2ms/step - loss: 11497.9561 - val_loss: 11728.4111\n",
      "Epoch 90/400\n",
      "285/285 [==============================] - 0s 2ms/step - loss: 11476.4492 - val_loss: 11785.3955\n",
      "Epoch 91/400\n",
      "285/285 [==============================] - 0s 2ms/step - loss: 11529.4697 - val_loss: 11744.8018\n",
      "Epoch 92/400\n",
      "285/285 [==============================] - 0s 2ms/step - loss: 11399.5635 - val_loss: 11671.2881\n",
      "Epoch 93/400\n",
      "285/285 [==============================] - 0s 2ms/step - loss: 11384.2949 - val_loss: 11855.9209\n",
      "Epoch 94/400\n",
      "285/285 [==============================] - 1s 2ms/step - loss: 11335.5586 - val_loss: 11702.7344\n",
      "Epoch 95/400\n",
      "285/285 [==============================] - 1s 2ms/step - loss: 11432.9023 - val_loss: 12338.2725\n",
      "Epoch 96/400\n",
      "285/285 [==============================] - 1s 2ms/step - loss: 11372.5127 - val_loss: 11696.5928\n",
      "Epoch 97/400\n",
      "285/285 [==============================] - 1s 2ms/step - loss: 11324.0068 - val_loss: 11655.4404\n",
      "Epoch 98/400\n",
      "285/285 [==============================] - 0s 2ms/step - loss: 11319.7734 - val_loss: 11848.0117\n",
      "Epoch 99/400\n",
      "285/285 [==============================] - ETA: 0s - loss: 11293.206 - 1s 2ms/step - loss: 11298.9453 - val_loss: 11716.2402\n",
      "Epoch 100/400\n",
      "285/285 [==============================] - 0s 2ms/step - loss: 11284.6104 - val_loss: 11810.5498\n",
      "Epoch 101/400\n",
      "285/285 [==============================] - 0s 2ms/step - loss: 11320.8164 - val_loss: 11778.8535\n",
      "Epoch 102/400\n",
      "285/285 [==============================] - 0s 2ms/step - loss: 11237.3271 - val_loss: 11802.4102\n",
      "Epoch 103/400\n",
      "285/285 [==============================] - 0s 2ms/step - loss: 11257.7012 - val_loss: 12071.7803\n",
      "Epoch 104/400\n",
      "285/285 [==============================] - 0s 2ms/step - loss: 11232.1279 - val_loss: 11784.1572\n",
      "Epoch 105/400\n",
      "285/285 [==============================] - 0s 2ms/step - loss: 11186.9268 - val_loss: 11626.8203\n",
      "Epoch 106/400\n",
      "285/285 [==============================] - 0s 2ms/step - loss: 11227.0225 - val_loss: 11586.4707\n",
      "Epoch 107/400\n",
      "285/285 [==============================] - 1s 2ms/step - loss: 11231.3691 - val_loss: 11749.0615\n",
      "Epoch 108/400\n",
      "285/285 [==============================] - 0s 2ms/step - loss: 11278.9463 - val_loss: 11642.2617\n",
      "Epoch 109/400\n",
      "285/285 [==============================] - ETA: 0s - loss: 11239.067 - 1s 2ms/step - loss: 11203.2207 - val_loss: 11770.0732\n",
      "Epoch 110/400\n",
      "285/285 [==============================] - 0s 2ms/step - loss: 11204.8330 - val_loss: 11518.5195\n",
      "Epoch 111/400\n",
      "285/285 [==============================] - 0s 2ms/step - loss: 11101.3955 - val_loss: 11499.0635\n",
      "Epoch 112/400\n",
      "285/285 [==============================] - 0s 2ms/step - loss: 11079.5049 - val_loss: 11651.4746\n",
      "Epoch 113/400\n",
      "285/285 [==============================] - 0s 2ms/step - loss: 11096.5020 - val_loss: 11531.6377\n",
      "Epoch 114/400\n",
      "285/285 [==============================] - 0s 2ms/step - loss: 11085.6797 - val_loss: 11494.0879\n",
      "Epoch 115/400\n",
      "285/285 [==============================] - 0s 2ms/step - loss: 11084.2871 - val_loss: 11881.1797\n",
      "Epoch 116/400\n",
      "285/285 [==============================] - 0s 2ms/step - loss: 11036.9922 - val_loss: 11523.9531\n",
      "Epoch 117/400\n",
      "285/285 [==============================] - 0s 2ms/step - loss: 11014.2100 - val_loss: 11726.7314\n",
      "Epoch 118/400\n",
      "285/285 [==============================] - 0s 2ms/step - loss: 11075.9473 - val_loss: 11849.0244\n",
      "Epoch 119/400\n",
      "285/285 [==============================] - 0s 2ms/step - loss: 11102.6982 - val_loss: 11769.5176\n",
      "Epoch 120/400\n",
      "285/285 [==============================] - 0s 2ms/step - loss: 11026.9561 - val_loss: 12059.8545\n",
      "Epoch 121/400\n",
      "285/285 [==============================] - 0s 2ms/step - loss: 10978.0938 - val_loss: 11543.5410\n",
      "Epoch 122/400\n",
      "285/285 [==============================] - 0s 2ms/step - loss: 10969.8330 - val_loss: 11662.0859\n",
      "Epoch 123/400\n",
      "285/285 [==============================] - 0s 2ms/step - loss: 10987.2383 - val_loss: 11480.2432\n",
      "Epoch 124/400\n",
      "285/285 [==============================] - 0s 2ms/step - loss: 11013.8730 - val_loss: 11639.0068\n",
      "Epoch 125/400\n",
      "285/285 [==============================] - 0s 2ms/step - loss: 10918.3750 - val_loss: 11517.9219\n",
      "Epoch 126/400\n",
      "285/285 [==============================] - 0s 2ms/step - loss: 10949.9717 - val_loss: 11805.7324\n",
      "Epoch 127/400\n",
      "285/285 [==============================] - 0s 2ms/step - loss: 10968.7344 - val_loss: 11754.9043\n",
      "Epoch 128/400\n",
      "285/285 [==============================] - 0s 2ms/step - loss: 10939.1953 - val_loss: 11504.8691\n",
      "Epoch 129/400\n",
      "285/285 [==============================] - 1s 2ms/step - loss: 10915.7012 - val_loss: 11484.1240\n",
      "Epoch 130/400\n",
      "285/285 [==============================] - 0s 2ms/step - loss: 10856.9990 - val_loss: 11507.9756\n",
      "Epoch 131/400\n",
      "285/285 [==============================] - 0s 2ms/step - loss: 10909.2783 - val_loss: 11437.9033\n",
      "Epoch 132/400\n",
      "285/285 [==============================] - 0s 2ms/step - loss: 10920.7061 - val_loss: 11434.2627\n",
      "Epoch 133/400\n",
      "285/285 [==============================] - 0s 2ms/step - loss: 10902.0293 - val_loss: 11558.9453\n",
      "Epoch 134/400\n",
      "285/285 [==============================] - 1s 2ms/step - loss: 10867.6045 - val_loss: 12230.0508\n",
      "Epoch 135/400\n",
      "285/285 [==============================] - 0s 2ms/step - loss: 10823.0742 - val_loss: 11373.9795\n",
      "Epoch 136/400\n",
      "285/285 [==============================] - ETA: 0s - loss: 10890.654 - 0s 2ms/step - loss: 10850.7539 - val_loss: 11771.3486\n",
      "Epoch 137/400\n",
      "285/285 [==============================] - 0s 2ms/step - loss: 10812.3701 - val_loss: 11362.9473\n",
      "Epoch 138/400\n",
      "285/285 [==============================] - 0s 2ms/step - loss: 10832.0176 - val_loss: 11418.0615\n",
      "Epoch 139/400\n",
      "285/285 [==============================] - ETA: 0s - loss: 10819.711 - 1s 2ms/step - loss: 10786.2168 - val_loss: 11615.5352\n",
      "Epoch 140/400\n",
      "285/285 [==============================] - 0s 2ms/step - loss: 10759.1357 - val_loss: 11877.4385\n",
      "Epoch 141/400\n",
      "285/285 [==============================] - 1s 2ms/step - loss: 10758.7178 - val_loss: 11893.8408\n",
      "Epoch 142/400\n",
      "285/285 [==============================] - 0s 2ms/step - loss: 10846.4199 - val_loss: 11490.3555\n",
      "Epoch 143/400\n",
      "285/285 [==============================] - 0s 2ms/step - loss: 10803.6025 - val_loss: 11684.9990\n",
      "Epoch 144/400\n",
      "285/285 [==============================] - 0s 2ms/step - loss: 10772.2715 - val_loss: 11492.8662\n",
      "Epoch 145/400\n",
      "285/285 [==============================] - ETA: 0s - loss: 10730.744 - 0s 2ms/step - loss: 10747.3486 - val_loss: 11371.9307\n",
      "Epoch 146/400\n",
      "285/285 [==============================] - 1s 2ms/step - loss: 10757.8906 - val_loss: 11548.8379\n",
      "Epoch 147/400\n"
     ]
    },
    {
     "name": "stdout",
     "output_type": "stream",
     "text": [
      "285/285 [==============================] - 0s 2ms/step - loss: 10837.0801 - val_loss: 11492.3096\n",
      "Epoch 148/400\n",
      "285/285 [==============================] - 0s 2ms/step - loss: 10720.8027 - val_loss: 11485.4199\n",
      "Epoch 149/400\n",
      "285/285 [==============================] - 0s 2ms/step - loss: 10716.5518 - val_loss: 11583.4404\n",
      "Epoch 150/400\n",
      "285/285 [==============================] - 0s 2ms/step - loss: 10738.7979 - val_loss: 11931.9502\n",
      "Epoch 151/400\n",
      "285/285 [==============================] - 0s 2ms/step - loss: 10715.1719 - val_loss: 11362.5947\n",
      "Epoch 152/400\n",
      "285/285 [==============================] - 0s 2ms/step - loss: 10665.1152 - val_loss: 11269.4326\n",
      "Epoch 153/400\n",
      "285/285 [==============================] - 0s 2ms/step - loss: 10674.7031 - val_loss: 11961.8936\n",
      "Epoch 154/400\n",
      "285/285 [==============================] - 0s 2ms/step - loss: 10669.5996 - val_loss: 11488.8975\n",
      "Epoch 155/400\n",
      "285/285 [==============================] - 0s 2ms/step - loss: 10655.8877 - val_loss: 11617.3301\n",
      "Epoch 156/400\n",
      "285/285 [==============================] - 0s 2ms/step - loss: 10693.1602 - val_loss: 11350.8906\n",
      "Epoch 157/400\n",
      "285/285 [==============================] - 0s 2ms/step - loss: 10647.6455 - val_loss: 11957.7725\n",
      "Epoch 158/400\n",
      "285/285 [==============================] - 0s 2ms/step - loss: 10598.1260 - val_loss: 11328.3535\n",
      "Epoch 159/400\n",
      "285/285 [==============================] - 0s 2ms/step - loss: 10752.8398 - val_loss: 11372.3477\n",
      "Epoch 160/400\n",
      "285/285 [==============================] - 0s 2ms/step - loss: 10635.3838 - val_loss: 11346.7090\n",
      "Epoch 161/400\n",
      "285/285 [==============================] - 0s 2ms/step - loss: 10650.9756 - val_loss: 11397.9658\n",
      "Epoch 162/400\n",
      "285/285 [==============================] - 0s 2ms/step - loss: 10599.5293 - val_loss: 11394.8418\n",
      "Epoch 163/400\n",
      "285/285 [==============================] - 0s 2ms/step - loss: 10583.7861 - val_loss: 11375.6494\n",
      "Epoch 164/400\n",
      "285/285 [==============================] - 0s 2ms/step - loss: 10639.3535 - val_loss: 11246.3018\n",
      "Epoch 165/400\n",
      "285/285 [==============================] - 1s 2ms/step - loss: 10585.1709 - val_loss: 11343.9678\n",
      "Epoch 166/400\n",
      "285/285 [==============================] - 0s 2ms/step - loss: 10553.7949 - val_loss: 11253.1709\n",
      "Epoch 167/400\n",
      "285/285 [==============================] - ETA: 0s - loss: 10558.673 - 0s 2ms/step - loss: 10540.9971 - val_loss: 11323.6152\n",
      "Epoch 168/400\n",
      "285/285 [==============================] - 0s 2ms/step - loss: 10566.1777 - val_loss: 11303.4072\n",
      "Epoch 169/400\n",
      "285/285 [==============================] - 0s 2ms/step - loss: 10637.9863 - val_loss: 11688.6396\n",
      "Epoch 170/400\n",
      "285/285 [==============================] - 0s 2ms/step - loss: 10548.7588 - val_loss: 12023.9727\n",
      "Epoch 171/400\n",
      "285/285 [==============================] - 0s 2ms/step - loss: 10537.1436 - val_loss: 11236.0088\n",
      "Epoch 172/400\n",
      "285/285 [==============================] - 0s 2ms/step - loss: 10475.5938 - val_loss: 11374.0361\n",
      "Epoch 173/400\n",
      "285/285 [==============================] - 0s 2ms/step - loss: 10506.5342 - val_loss: 11378.3438\n",
      "Epoch 174/400\n",
      "285/285 [==============================] - 0s 2ms/step - loss: 10530.5361 - val_loss: 11288.2031\n",
      "Epoch 175/400\n",
      "285/285 [==============================] - 0s 2ms/step - loss: 10468.7910 - val_loss: 11230.7949\n",
      "Epoch 176/400\n",
      "285/285 [==============================] - 1s 2ms/step - loss: 10468.0449 - val_loss: 11254.6904\n",
      "Epoch 177/400\n",
      "285/285 [==============================] - 0s 2ms/step - loss: 10450.1650 - val_loss: 11273.3848\n",
      "Epoch 178/400\n",
      "285/285 [==============================] - 0s 2ms/step - loss: 10490.7354 - val_loss: 11326.5850\n",
      "Epoch 179/400\n",
      "285/285 [==============================] - 1s 2ms/step - loss: 10483.1797 - val_loss: 11239.0186\n",
      "Epoch 180/400\n",
      "285/285 [==============================] - 0s 2ms/step - loss: 10465.3691 - val_loss: 11287.5283\n",
      "Epoch 181/400\n",
      "285/285 [==============================] - 0s 2ms/step - loss: 10452.9238 - val_loss: 11379.3369\n",
      "Epoch 182/400\n",
      "285/285 [==============================] - 1s 2ms/step - loss: 10420.8047 - val_loss: 11368.5820\n",
      "Epoch 183/400\n",
      "285/285 [==============================] - 0s 2ms/step - loss: 10467.3623 - val_loss: 11188.0322\n",
      "Epoch 184/400\n",
      "285/285 [==============================] - 0s 2ms/step - loss: 10397.5234 - val_loss: 11438.8213\n",
      "Epoch 185/400\n",
      "285/285 [==============================] - 0s 2ms/step - loss: 10409.7881 - val_loss: 11180.5195\n",
      "Epoch 186/400\n",
      "285/285 [==============================] - 1s 2ms/step - loss: 10393.2275 - val_loss: 11647.8984\n",
      "Epoch 187/400\n",
      "285/285 [==============================] - 1s 2ms/step - loss: 10437.2109 - val_loss: 11279.5713\n",
      "Epoch 188/400\n",
      "285/285 [==============================] - 0s 1ms/step - loss: 10440.6211 - val_loss: 11224.7910\n",
      "Epoch 189/400\n",
      "285/285 [==============================] - 1s 2ms/step - loss: 10364.2217 - val_loss: 11218.9092\n",
      "Epoch 190/400\n",
      "285/285 [==============================] - 1s 2ms/step - loss: 10326.8076 - val_loss: 11441.1221\n",
      "Epoch 191/400\n",
      "285/285 [==============================] - 1s 2ms/step - loss: 10359.1396 - val_loss: 11306.0176\n",
      "Epoch 192/400\n",
      "285/285 [==============================] - 0s 2ms/step - loss: 10313.9424 - val_loss: 11554.1201\n",
      "Epoch 193/400\n",
      "285/285 [==============================] - 0s 2ms/step - loss: 10363.1934 - val_loss: 11451.6699\n",
      "Epoch 194/400\n",
      "285/285 [==============================] - 1s 2ms/step - loss: 10323.7393 - val_loss: 11219.4873\n",
      "Epoch 195/400\n",
      "285/285 [==============================] - 1s 2ms/step - loss: 10318.1660 - val_loss: 11343.6592\n",
      "Epoch 196/400\n",
      "285/285 [==============================] - 1s 2ms/step - loss: 10304.7100 - val_loss: 11355.7168\n",
      "Epoch 197/400\n",
      "285/285 [==============================] - 1s 2ms/step - loss: 10305.5342 - val_loss: 11197.2227\n",
      "Epoch 198/400\n",
      "285/285 [==============================] - 1s 2ms/step - loss: 10266.7920 - val_loss: 11788.7188\n",
      "Epoch 199/400\n",
      "285/285 [==============================] - 1s 2ms/step - loss: 10284.3936 - val_loss: 11420.1553\n",
      "Epoch 200/400\n",
      "285/285 [==============================] - 1s 2ms/step - loss: 10236.4590 - val_loss: 11392.9893\n",
      "Epoch 201/400\n",
      "285/285 [==============================] - 1s 2ms/step - loss: 10249.0195 - val_loss: 11329.2363\n",
      "Epoch 202/400\n",
      "285/285 [==============================] - 1s 2ms/step - loss: 10272.9961 - val_loss: 11354.7715\n",
      "Epoch 203/400\n",
      "285/285 [==============================] - 1s 2ms/step - loss: 10275.9658 - val_loss: 11335.6533\n",
      "Epoch 204/400\n",
      "285/285 [==============================] - 1s 2ms/step - loss: 10268.4297 - val_loss: 11207.8643\n",
      "Epoch 205/400\n",
      "285/285 [==============================] - 1s 2ms/step - loss: 10246.9238 - val_loss: 11320.4619\n",
      "Epoch 206/400\n",
      "285/285 [==============================] - 1s 2ms/step - loss: 10213.0430 - val_loss: 11306.6270\n",
      "Epoch 207/400\n",
      "285/285 [==============================] - 1s 2ms/step - loss: 10228.7275 - val_loss: 11433.2139\n",
      "Epoch 208/400\n",
      "285/285 [==============================] - 1s 2ms/step - loss: 10229.4336 - val_loss: 11645.2627\n",
      "Epoch 209/400\n",
      "285/285 [==============================] - 1s 2ms/step - loss: 10275.4287 - val_loss: 11481.4238\n",
      "Epoch 210/400\n",
      "285/285 [==============================] - 0s 2ms/step - loss: 10192.3857 - val_loss: 11295.8418\n",
      "Epoch 00210: early stopping\n"
     ]
    },
    {
     "data": {
      "text/plain": [
       "<keras.callbacks.History at 0x1350942b700>"
      ]
     },
     "execution_count": 13,
     "metadata": {},
     "output_type": "execute_result"
    }
   ],
   "source": [
    "model.fit(x=X_train,\n",
    "        y=y_train,\n",
    "        validation_data=(X_test,y_test),\n",
    "        batch_size=batchsize,\n",
    "        epochs=epochs,\n",
    "        verbose=1,\n",
    "        callbacks=[early_stop])"
   ]
  },
  {
   "cell_type": "code",
   "execution_count": 14,
   "metadata": {},
   "outputs": [],
   "source": [
    "losses = pd.DataFrame(model.history.history)"
   ]
  },
  {
   "cell_type": "code",
   "execution_count": 15,
   "metadata": {},
   "outputs": [
    {
     "data": {
      "text/plain": [
       "<AxesSubplot:>"
      ]
     },
     "execution_count": 15,
     "metadata": {},
     "output_type": "execute_result"
    },
    {
     "data": {
      "image/png": "[encoded data removed]",
      "text/plain": [
       "<Figure size 1008x576 with 1 Axes>"
      ]
     },
     "metadata": {},
     "output_type": "display_data"
    }
   ],
   "source": [
    "losses.plot()"
   ]
  },
  {
   "cell_type": "markdown",
   "metadata": {},
   "source": [
    "### Evaluation Metrics"
   ]
  },
  {
   "cell_type": "code",
   "execution_count": 16,
   "metadata": {},
   "outputs": [],
   "source": [
    "def eval_metrics_timeseries(real_values,pred,name='Variable'):\n",
    "    print(f\"\"\"\n",
    "        ------- {name} ------\n",
    "        \n",
    "MAE: {mean_absolute_error(real_values,pred):.3f},\n",
    "MSE: {mean_squared_error(real_values,pred):.3f},\n",
    "RMSE: {np.sqrt(mean_squared_error(real_values,pred)):.3f},\n",
    "Explained Variance Score: {explained_variance_score(real_values,pred)*100:.3f}%,\n",
    "\n",
    "Compare Mean values per Year: Predictions VS Real:\n",
    "\n",
    "{pd.concat([pd.DataFrame(real_values).mean(),pd.DataFrame(pred).mean()],axis=1,keys=['Avg real',' Avg Pred'],names='Year')}\n",
    "    \"\"\")"
   ]
  },
  {
   "cell_type": "code",
   "execution_count": 17,
   "metadata": {},
   "outputs": [],
   "source": [
    "predictions_enthalpy = model.predict(X_test)"
   ]
  },
  {
   "cell_type": "code",
   "execution_count": 18,
   "metadata": {},
   "outputs": [
    {
     "name": "stdout",
     "output_type": "stream",
     "text": [
      "\n",
      "        ------- Power Enthalpy (Kj/Kg) ------\n",
      "        \n",
      "MAE: 68.826,\n",
      "MSE: 11295.843,\n",
      "RMSE: 106.282,\n",
      "Explained Variance Score: 76.311%,\n",
      "\n",
      "Compare Mean values per Year: Predictions VS Real:\n",
      "\n",
      "Year    Avg real    Avg Pred\n",
      "0     720.673024  727.023254\n",
      "1     685.503591  693.649292\n",
      "2     669.999661  678.117432\n",
      "3     659.121084  667.273560\n",
      "4     650.643491  658.646667\n",
      "5     643.678181  651.510315\n",
      "6     637.751328  645.419678\n",
      "7     632.605190  640.116699\n",
      "8     628.050429  635.330566\n",
      "9     623.965584  631.186340\n",
      "10    620.241453  627.290100\n",
      "11    616.822240  623.812683\n",
      "12    613.660062  620.654175\n",
      "13    610.725212  617.656555\n",
      "14    608.000128  614.906677\n",
      "15    605.442206  612.135742\n",
      "16    603.023039  609.653931\n",
      "17    600.744027  607.285156\n",
      "18    598.577764  605.018372\n",
      "19    596.526776  602.882385\n",
      "    \n"
     ]
    }
   ],
   "source": [
    "eval_metrics_timeseries(y_test,predictions_enthalpy,name='Power Enthalpy (Kj/Kg)')"
   ]
  },
  {
   "cell_type": "code",
   "execution_count": 19,
   "metadata": {},
   "outputs": [
    {
     "data": {
      "text/plain": [
       "<AxesSubplot:title={'center':'Avg Power Enthalpy: Predicted Vs Real values'}>"
      ]
     },
     "execution_count": 19,
     "metadata": {},
     "output_type": "execute_result"
    },
    {
     "data": {
      "image/png": "[encoded data removed]",
      "text/plain": [
       "<Figure size 1008x576 with 1 Axes>"
      ]
     },
     "metadata": {},
     "output_type": "display_data"
    }
   ],
   "source": [
    "pd.DataFrame(predictions_enthalpy,columns=df_Enthalpy.columns).mean().plot(legend=True,label='Avg Enthalpy PRED',\n",
    "                                                                           title='Avg Power Enthalpy: Predicted Vs Real values')\n",
    "pd.DataFrame(y_test,columns=df_Enthalpy.columns).mean().plot(legend=True,label='Avg Enthalpy REAL')"
   ]
  },
  {
   "cell_type": "markdown",
   "metadata": {},
   "source": [
    "### END"
   ]
  }
 ],
 "metadata": {
  "kernelspec": {
   "display_name": "Python 3",
   "language": "python",
   "name": "python3"
  },
  "language_info": {
   "codemirror_mode": {
    "name": "ipython",
    "version": 3
   },
   "file_extension": ".py",
   "mimetype": "text/x-python",
   "name": "python",
   "nbconvert_exporter": "python",
   "pygments_lexer": "ipython3",
   "version": "3.8.5"
  }
 },
 "nbformat": 4,
 "nbformat_minor": 4
}
